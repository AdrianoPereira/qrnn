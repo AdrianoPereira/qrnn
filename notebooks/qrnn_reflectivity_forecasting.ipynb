{
 "cells": [
  {
   "cell_type": "markdown",
   "metadata": {},
   "source": [
    "### Description\n",
    "\n",
    "This notebook aims to apply the quantile neural network to predict mean reflectivity rada data. The data are avaiable in [https://www.arm.gov/research/campaigns/amf2014goamazon](https://www.arm.gov/research/campaigns/amf2014goamazon). \n",
    "\n",
    "> **Tip**:\n",
    ">The data can be easily downloaded using the module [goamazondownloader](https://github.com/AdrianoPereira/goamazondownloader)"
   ]
  },
  {
   "cell_type": "markdown",
   "metadata": {},
   "source": [
    "### Import libraries\n",
    "\n",
    "Importing modules e libraries to read of data, preprocessing, visualization and neural network models."
   ]
  },
  {
   "cell_type": "code",
   "execution_count": 279,
   "metadata": {
    "ExecuteTime": {
     "end_time": "2020-07-13T18:00:12.543192Z",
     "start_time": "2020-07-13T18:00:12.535360Z"
    }
   },
   "outputs": [],
   "source": [
    "import os\n",
    "import pandas as pd\n",
    "import numpy as np\n",
    "import matplotlib.pyplot as plt\n",
    "\n",
    "from typhon.retrieval.qrnn import QRNN\n",
    "from sklearn.model_selection import train_test_split\n",
    "from sklearn.preprocessing import MinMaxScaler"
   ]
  },
  {
   "cell_type": "markdown",
   "metadata": {
    "ExecuteTime": {
     "end_time": "2020-07-13T15:24:49.138677Z",
     "start_time": "2020-07-13T15:24:49.133810Z"
    }
   },
   "source": [
    "### Load data\n",
    "\n",
    "The data are matrices (241x241) representing the radar's reflectivity echoes. Each attribute ($x_i$) will be the accumulated reflectivity at times t, t-1, ..., t-4 and output the reflectivity accumulated at time t + 1."
   ]
  },
  {
   "cell_type": "code",
   "execution_count": 280,
   "metadata": {
    "ExecuteTime": {
     "end_time": "2020-07-13T18:00:13.429791Z",
     "start_time": "2020-07-13T18:00:12.548451Z"
    }
   },
   "outputs": [],
   "source": [
    "paths = list()\n",
    "for root, dirs, files in os.walk('../data/matrizes'):\n",
    "    for file in files:\n",
    "        paths.append(os.path.join(root, file))\n",
    "paths = np.asarray(sorted(paths))\n",
    "\n",
    "X, Y = list(), list()\n",
    "size_input = 5 \n",
    "for i in range(size_input, paths.size):\n",
    "#     print(np.arange(i-size_input, i), i)\n",
    "    X.append(list())\n",
    "    for j in range(i-size_input, i):\n",
    "        mat = np.load(paths[j])\n",
    "        X[i-size_input].append(mat)\n",
    "    mat = np.load(paths[i])\n",
    "    Y.append(mat)\n",
    "X = np.asarray(X)\n",
    "Y = np.asarray(Y)"
   ]
  },
  {
   "cell_type": "markdown",
   "metadata": {},
   "source": [
    "### Preprocessing data\n",
    "\n",
    "Filtering the input data so that it has only complete time series and normalize data."
   ]
  },
  {
   "cell_type": "code",
   "execution_count": 281,
   "metadata": {
    "ExecuteTime": {
     "end_time": "2020-07-13T18:00:13.721070Z",
     "start_time": "2020-07-13T18:00:13.431850Z"
    }
   },
   "outputs": [],
   "source": [
    "X_data = list() \n",
    "Y_data = list()\n",
    "\n",
    "for i, xval in enumerate(X):\n",
    "    aux = list()\n",
    "    for frame in xval:\n",
    "        temp = np.nansum(frame)\n",
    "        if temp < 1:\n",
    "            break\n",
    "        aux.append(temp)\n",
    "    temp = np.nansum(Y[i])\n",
    "    if len(aux) == size_input and temp > 0:\n",
    "        X_data.append(aux)\n",
    "        Y_data.append(temp)\n",
    "        \n",
    "X_data = np.asarray(X_data)\n",
    "Y_data = np.expand_dims(np.asarray(Y_data), 1)\n",
    "\n",
    "norm = MinMaxScaler(feature_range=(0, 1))\n",
    "X_data = norm.fit_transform(X_data)\n",
    "Y_data = norm.fit_transform(Y_data)"
   ]
  },
  {
   "cell_type": "markdown",
   "metadata": {},
   "source": [
    "### Split test and train data\n",
    "\n",
    "Splitting data into training (85%) and testing set (15%)."
   ]
  },
  {
   "cell_type": "code",
   "execution_count": 282,
   "metadata": {
    "ExecuteTime": {
     "end_time": "2020-07-13T18:00:13.727395Z",
     "start_time": "2020-07-13T18:00:13.722558Z"
    }
   },
   "outputs": [
    {
     "name": "stdout",
     "output_type": "stream",
     "text": [
      "X_train:  (320, 5)\n",
      "y_train:  (320, 1)\n",
      "X_test:  (57, 5)\n",
      "y_test:  (57, 1)\n"
     ]
    }
   ],
   "source": [
    "X_train, X_test, y_train, y_test = train_test_split(X_data, Y_data, test_size=.15)\n",
    "\n",
    "print('X_train: ', X_train.shape)\n",
    "print('y_train: ', y_train.shape)\n",
    "\n",
    "print('X_test: ', X_test.shape)\n",
    "print('y_test: ', y_test.shape)"
   ]
  },
  {
   "cell_type": "markdown",
   "metadata": {},
   "source": [
    "### Build model\n",
    "\n",
    "Building quantile neural network model with the 10th, 5th and 90th quantiles. Internally, the QRNN uses a feed-forward neural network that is trained to minimize the quantile loss function [(TAYLOR, 2000)](#).\n",
    "\n",
    "$$\n",
    "L_\\tau(y_\\tau, y_{true}) =\n",
    "            \\begin{cases} (1 - \\tau)|y_\\tau - y_{true}| & \\text{ if } y_\\tau < y_\\text{true} \\\\\n",
    "            \\tau |y_\\tau - y_\\text{true}| & \\text{ otherwise, }\\end{cases}\n",
    "$$\n",
    "\n",
    "Where $y_\\text{true}$ is the expected value of the retrieval quantity\n",
    "and and $y_\\tau$ is the predicted quantile. The neural network\n",
    "has one output neuron for each quantile to estimate.\n"
   ]
  },
  {
   "cell_type": "code",
   "execution_count": 283,
   "metadata": {
    "ExecuteTime": {
     "end_time": "2020-07-13T18:00:13.924951Z",
     "start_time": "2020-07-13T18:00:13.728778Z"
    }
   },
   "outputs": [],
   "source": [
    "input_dim = X_train.shape[1]\n",
    "quantiles = [0.1, 0.5, 0.9]\n",
    "\n",
    "model = QRNN(input_dim=input_dim, quantiles=quantiles)"
   ]
  },
  {
   "cell_type": "markdown",
   "metadata": {},
   "source": [
    "### Training model\n",
    "\n",
    "Training model with batch size equals to 16 and using Learning Rate decay as callback. The LRDecay class implements the Keras callback interface and reduces the learning rate according to validation loss reduction."
   ]
  },
  {
   "cell_type": "code",
   "execution_count": 293,
   "metadata": {
    "ExecuteTime": {
     "end_time": "2020-07-13T18:02:27.567275Z",
     "start_time": "2020-07-13T18:02:20.244174Z"
    }
   },
   "outputs": [
    {
     "name": "stdout",
     "output_type": "stream",
     "text": [
      "Epoch 1/200\n",
      "20/20 [==============================] - 0s 23ms/step - loss: 0.0261 - val_loss: 0.0342\n",
      "Epoch 2/200\n",
      "20/20 [==============================] - 0s 2ms/step - loss: 0.0259 - val_loss: 0.0302\n",
      "Epoch 3/200\n",
      "20/20 [==============================] - 0s 1ms/step - loss: 0.0265 - val_loss: 0.0285\n",
      "Epoch 4/200\n",
      "20/20 [==============================] - 0s 1ms/step - loss: 0.0255 - val_loss: 0.0292\n",
      "Epoch 5/200\n",
      "20/20 [==============================] - 0s 1ms/step - loss: 0.0259 - val_loss: 0.0302\n",
      "Epoch 6/200\n",
      "20/20 [==============================] - 0s 1ms/step - loss: 0.0256 - val_loss: 0.0308\n",
      "Epoch 7/200\n",
      "20/20 [==============================] - 0s 1ms/step - loss: 0.0255 - val_loss: 0.0320\n",
      "Epoch 8/200\n",
      "20/20 [==============================] - 0s 2ms/step - loss: 0.0251 - val_loss: 0.0316\n",
      "Epoch 9/200\n",
      "20/20 [==============================] - 0s 1ms/step - loss: 0.0257 - val_loss: 0.0324\n",
      "Epoch 10/200\n",
      "20/20 [==============================] - 0s 2ms/step - loss: 0.0256 - val_loss: 0.0305\n",
      "Epoch 11/200\n",
      "20/20 [==============================] - 0s 1ms/step - loss: 0.0256 - val_loss: 0.0303\n",
      "Epoch 12/200\n",
      "20/20 [==============================] - 0s 2ms/step - loss: 0.0269 - val_loss: 0.0303\n",
      "Epoch 13/200\n",
      "20/20 [==============================] - 0s 1ms/step - loss: 0.0256 - val_loss: 0.0303\n",
      "Epoch 14/200\n",
      "20/20 [==============================] - 0s 1ms/step - loss: 0.0256 - val_loss: 0.0287\n",
      "Epoch 15/200\n",
      "20/20 [==============================] - 0s 1ms/step - loss: 0.0243 - val_loss: 0.0284\n",
      "Epoch 16/200\n",
      "20/20 [==============================] - 0s 1ms/step - loss: 0.0240 - val_loss: 0.0291\n",
      "Epoch 17/200\n",
      "20/20 [==============================] - 0s 2ms/step - loss: 0.0244 - val_loss: 0.0288\n",
      "Epoch 18/200\n",
      "20/20 [==============================] - 0s 1ms/step - loss: 0.0245 - val_loss: 0.0286\n",
      "Epoch 19/200\n",
      "20/20 [==============================] - 0s 2ms/step - loss: 0.0244 - val_loss: 0.0294\n",
      "Epoch 20/200\n",
      "20/20 [==============================] - 0s 1ms/step - loss: 0.0239 - val_loss: 0.0292\n",
      "Epoch 21/200\n",
      "20/20 [==============================] - 0s 2ms/step - loss: 0.0246 - val_loss: 0.0296\n",
      "Epoch 22/200\n",
      "20/20 [==============================] - 0s 1ms/step - loss: 0.0240 - val_loss: 0.0281\n",
      "Epoch 23/200\n",
      "20/20 [==============================] - 0s 2ms/step - loss: 0.0238 - val_loss: 0.0290\n",
      "Epoch 24/200\n",
      "20/20 [==============================] - 0s 2ms/step - loss: 0.0240 - val_loss: 0.0302\n",
      "Epoch 25/200\n",
      "20/20 [==============================] - 0s 2ms/step - loss: 0.0243 - val_loss: 0.0291\n",
      "Epoch 26/200\n",
      "20/20 [==============================] - 0s 1ms/step - loss: 0.0240 - val_loss: 0.0281\n",
      "Epoch 27/200\n",
      "20/20 [==============================] - 0s 1ms/step - loss: 0.0238 - val_loss: 0.0295\n",
      "Epoch 28/200\n",
      "20/20 [==============================] - 0s 2ms/step - loss: 0.0242 - val_loss: 0.0288\n",
      "Epoch 29/200\n",
      "20/20 [==============================] - 0s 1ms/step - loss: 0.0240 - val_loss: 0.0283\n",
      "Epoch 30/200\n",
      "20/20 [==============================] - 0s 2ms/step - loss: 0.0239 - val_loss: 0.0292\n",
      "Epoch 31/200\n",
      "20/20 [==============================] - 0s 2ms/step - loss: 0.0242 - val_loss: 0.0290\n",
      "Epoch 32/200\n",
      "20/20 [==============================] - 0s 2ms/step - loss: 0.0244 - val_loss: 0.0294\n",
      "Epoch 33/200\n",
      "20/20 [==============================] - 0s 2ms/step - loss: 0.0241 - val_loss: 0.0304\n",
      "Epoch 34/200\n",
      "20/20 [==============================] - 0s 2ms/step - loss: 0.0236 - val_loss: 0.0291\n",
      "Epoch 35/200\n",
      "20/20 [==============================] - 0s 2ms/step - loss: 0.0235 - val_loss: 0.0290\n",
      "Epoch 36/200\n",
      "20/20 [==============================] - 0s 2ms/step - loss: 0.0237 - val_loss: 0.0291\n",
      "Epoch 37/200\n",
      "20/20 [==============================] - 0s 1ms/step - loss: 0.0234 - val_loss: 0.0284\n",
      "Epoch 38/200\n",
      "20/20 [==============================] - 0s 1ms/step - loss: 0.0234 - val_loss: 0.0284\n",
      "Epoch 39/200\n",
      "20/20 [==============================] - 0s 2ms/step - loss: 0.0235 - val_loss: 0.0285\n",
      "Epoch 40/200\n",
      "20/20 [==============================] - 0s 1ms/step - loss: 0.0234 - val_loss: 0.0292\n",
      "Epoch 41/200\n",
      "20/20 [==============================] - 0s 1ms/step - loss: 0.0235 - val_loss: 0.0289\n",
      "Epoch 42/200\n",
      "20/20 [==============================] - 0s 1ms/step - loss: 0.0235 - val_loss: 0.0287\n",
      "Epoch 43/200\n",
      "20/20 [==============================] - 0s 1ms/step - loss: 0.0234 - val_loss: 0.0284\n",
      "Epoch 44/200\n",
      "20/20 [==============================] - 0s 2ms/step - loss: 0.0235 - val_loss: 0.0282\n",
      "Epoch 45/200\n",
      "20/20 [==============================] - 0s 2ms/step - loss: 0.0234 - val_loss: 0.0287\n",
      "Epoch 46/200\n",
      "20/20 [==============================] - 0s 1ms/step - loss: 0.0233 - val_loss: 0.0287\n",
      "Epoch 47/200\n",
      "20/20 [==============================] - 0s 2ms/step - loss: 0.0232 - val_loss: 0.0284\n",
      "Epoch 48/200\n",
      "20/20 [==============================] - 0s 2ms/step - loss: 0.0232 - val_loss: 0.0283\n",
      "Epoch 49/200\n",
      "20/20 [==============================] - 0s 2ms/step - loss: 0.0233 - val_loss: 0.0285\n",
      "Epoch 50/200\n",
      "20/20 [==============================] - 0s 2ms/step - loss: 0.0233 - val_loss: 0.0285\n",
      "Epoch 51/200\n",
      "20/20 [==============================] - 0s 2ms/step - loss: 0.0233 - val_loss: 0.0288\n",
      "Epoch 52/200\n",
      "20/20 [==============================] - 0s 2ms/step - loss: 0.0232 - val_loss: 0.0284\n",
      "Epoch 53/200\n",
      "20/20 [==============================] - 0s 1ms/step - loss: 0.0232 - val_loss: 0.0287\n",
      "Epoch 54/200\n",
      "20/20 [==============================] - 0s 1ms/step - loss: 0.0233 - val_loss: 0.0286\n",
      "Epoch 55/200\n",
      "20/20 [==============================] - 0s 2ms/step - loss: 0.0232 - val_loss: 0.0285\n",
      "Epoch 56/200\n",
      "20/20 [==============================] - 0s 1ms/step - loss: 0.0231 - val_loss: 0.0286\n",
      "Epoch 57/200\n",
      "20/20 [==============================] - 0s 1ms/step - loss: 0.0231 - val_loss: 0.0287\n",
      "Epoch 58/200\n",
      "20/20 [==============================] - 0s 1ms/step - loss: 0.0232 - val_loss: 0.0287\n",
      "Epoch 59/200\n",
      "20/20 [==============================] - 0s 1ms/step - loss: 0.0231 - val_loss: 0.0287\n",
      "Epoch 60/200\n",
      "20/20 [==============================] - 0s 2ms/step - loss: 0.0231 - val_loss: 0.0288\n",
      "Epoch 61/200\n",
      "20/20 [==============================] - 0s 2ms/step - loss: 0.0231 - val_loss: 0.0288\n",
      "Epoch 62/200\n",
      "20/20 [==============================] - 0s 3ms/step - loss: 0.0231 - val_loss: 0.0288\n",
      "Epoch 63/200\n",
      "20/20 [==============================] - 0s 2ms/step - loss: 0.0231 - val_loss: 0.0287\n",
      "Epoch 64/200\n",
      "20/20 [==============================] - 0s 2ms/step - loss: 0.0231 - val_loss: 0.0286\n",
      "Epoch 65/200\n",
      "20/20 [==============================] - 0s 2ms/step - loss: 0.0232 - val_loss: 0.0287\n",
      "Epoch 66/200\n",
      "20/20 [==============================] - 0s 2ms/step - loss: 0.0231 - val_loss: 0.0288\n",
      "Epoch 67/200\n",
      "20/20 [==============================] - 0s 2ms/step - loss: 0.0231 - val_loss: 0.0287\n",
      "Epoch 68/200\n",
      "20/20 [==============================] - 0s 2ms/step - loss: 0.0231 - val_loss: 0.0287\n",
      "Epoch 69/200\n",
      "20/20 [==============================] - 0s 2ms/step - loss: 0.0231 - val_loss: 0.0286\n",
      "Epoch 70/200\n",
      "20/20 [==============================] - 0s 2ms/step - loss: 0.0231 - val_loss: 0.0286\n",
      "Epoch 71/200\n",
      "20/20 [==============================] - 0s 2ms/step - loss: 0.0231 - val_loss: 0.0287\n",
      "Epoch 72/200\n",
      "20/20 [==============================] - 0s 2ms/step - loss: 0.0231 - val_loss: 0.0287\n",
      "Epoch 73/200\n",
      "20/20 [==============================] - 0s 2ms/step - loss: 0.0231 - val_loss: 0.0287\n",
      "Epoch 74/200\n",
      "20/20 [==============================] - 0s 3ms/step - loss: 0.0231 - val_loss: 0.0287\n",
      "Epoch 75/200\n",
      "20/20 [==============================] - 0s 2ms/step - loss: 0.0231 - val_loss: 0.0287\n",
      "Epoch 76/200\n",
      "20/20 [==============================] - 0s 2ms/step - loss: 0.0231 - val_loss: 0.0287\n",
      "Epoch 77/200\n",
      "20/20 [==============================] - 0s 2ms/step - loss: 0.0231 - val_loss: 0.0287\n",
      "Epoch 78/200\n",
      "20/20 [==============================] - 0s 2ms/step - loss: 0.0230 - val_loss: 0.0287\n",
      "Epoch 79/200\n",
      "20/20 [==============================] - 0s 2ms/step - loss: 0.0230 - val_loss: 0.0287\n",
      "Epoch 80/200\n",
      "20/20 [==============================] - 0s 2ms/step - loss: 0.0230 - val_loss: 0.0287\n",
      "Epoch 81/200\n",
      "20/20 [==============================] - 0s 2ms/step - loss: 0.0230 - val_loss: 0.0287\n",
      "Epoch 82/200\n",
      "20/20 [==============================] - 0s 2ms/step - loss: 0.0230 - val_loss: 0.0287\n",
      "Epoch 83/200\n"
     ]
    },
    {
     "name": "stdout",
     "output_type": "stream",
     "text": [
      "20/20 [==============================] - 0s 2ms/step - loss: 0.0230 - val_loss: 0.0287\n",
      "Epoch 84/200\n",
      "20/20 [==============================] - 0s 2ms/step - loss: 0.0231 - val_loss: 0.0287\n",
      "Epoch 85/200\n",
      "20/20 [==============================] - 0s 2ms/step - loss: 0.0230 - val_loss: 0.0287\n",
      "Epoch 86/200\n",
      "20/20 [==============================] - 0s 2ms/step - loss: 0.0230 - val_loss: 0.0287\n",
      "Epoch 87/200\n",
      "20/20 [==============================] - 0s 2ms/step - loss: 0.0230 - val_loss: 0.0287\n",
      "Epoch 88/200\n",
      "20/20 [==============================] - 0s 2ms/step - loss: 0.0230 - val_loss: 0.0286\n",
      "Epoch 89/200\n",
      "20/20 [==============================] - 0s 2ms/step - loss: 0.0230 - val_loss: 0.0287\n",
      "Epoch 90/200\n",
      "20/20 [==============================] - 0s 1ms/step - loss: 0.0230 - val_loss: 0.0287\n",
      "Epoch 91/200\n",
      "20/20 [==============================] - 0s 2ms/step - loss: 0.0230 - val_loss: 0.0287\n",
      "Epoch 92/200\n",
      "20/20 [==============================] - 0s 2ms/step - loss: 0.0230 - val_loss: 0.0287\n",
      "Epoch 93/200\n",
      "20/20 [==============================] - 0s 2ms/step - loss: 0.0230 - val_loss: 0.0287\n",
      "Epoch 94/200\n",
      "20/20 [==============================] - 0s 2ms/step - loss: 0.0230 - val_loss: 0.0287\n",
      "Epoch 95/200\n",
      "20/20 [==============================] - 0s 2ms/step - loss: 0.0230 - val_loss: 0.0287\n",
      "Epoch 96/200\n",
      "20/20 [==============================] - 0s 3ms/step - loss: 0.0230 - val_loss: 0.0287\n",
      "Epoch 97/200\n",
      "20/20 [==============================] - 0s 2ms/step - loss: 0.0230 - val_loss: 0.0287\n",
      "Epoch 98/200\n",
      "20/20 [==============================] - 0s 2ms/step - loss: 0.0230 - val_loss: 0.0287\n",
      "Epoch 99/200\n",
      "20/20 [==============================] - 0s 2ms/step - loss: 0.0230 - val_loss: 0.0287\n",
      "Epoch 100/200\n",
      "20/20 [==============================] - 0s 2ms/step - loss: 0.0230 - val_loss: 0.0287\n",
      "Epoch 101/200\n",
      "20/20 [==============================] - 0s 2ms/step - loss: 0.0230 - val_loss: 0.0287\n",
      "Epoch 102/200\n",
      "20/20 [==============================] - 0s 2ms/step - loss: 0.0230 - val_loss: 0.0287\n",
      "Epoch 103/200\n",
      "20/20 [==============================] - 0s 2ms/step - loss: 0.0230 - val_loss: 0.0287\n",
      "Epoch 104/200\n",
      "20/20 [==============================] - 0s 2ms/step - loss: 0.0230 - val_loss: 0.0287\n",
      "Epoch 105/200\n",
      "20/20 [==============================] - 0s 2ms/step - loss: 0.0230 - val_loss: 0.0287\n",
      "Epoch 106/200\n",
      "20/20 [==============================] - 0s 2ms/step - loss: 0.0230 - val_loss: 0.0287\n",
      "Epoch 107/200\n",
      "20/20 [==============================] - 0s 2ms/step - loss: 0.0230 - val_loss: 0.0287\n",
      "Epoch 108/200\n",
      "20/20 [==============================] - 0s 2ms/step - loss: 0.0230 - val_loss: 0.0287\n",
      "Epoch 109/200\n",
      "20/20 [==============================] - 0s 2ms/step - loss: 0.0230 - val_loss: 0.0287\n",
      "Epoch 110/200\n",
      "20/20 [==============================] - 0s 1ms/step - loss: 0.0230 - val_loss: 0.0287\n",
      "Epoch 111/200\n",
      "20/20 [==============================] - 0s 2ms/step - loss: 0.0230 - val_loss: 0.0287\n",
      "Epoch 112/200\n",
      "20/20 [==============================] - 0s 1ms/step - loss: 0.0230 - val_loss: 0.0287\n",
      "Epoch 113/200\n",
      "20/20 [==============================] - 0s 2ms/step - loss: 0.0230 - val_loss: 0.0287\n",
      "Epoch 114/200\n",
      "20/20 [==============================] - 0s 2ms/step - loss: 0.0230 - val_loss: 0.0287\n",
      "Epoch 115/200\n",
      "20/20 [==============================] - 0s 2ms/step - loss: 0.0230 - val_loss: 0.0287\n",
      "Epoch 116/200\n",
      "20/20 [==============================] - 0s 1ms/step - loss: 0.0230 - val_loss: 0.0287\n",
      "Epoch 117/200\n",
      "20/20 [==============================] - 0s 2ms/step - loss: 0.0230 - val_loss: 0.0287\n",
      "Epoch 118/200\n",
      "20/20 [==============================] - 0s 1ms/step - loss: 0.0230 - val_loss: 0.0287\n",
      "Epoch 119/200\n",
      "20/20 [==============================] - 0s 2ms/step - loss: 0.0230 - val_loss: 0.0287\n",
      "Epoch 120/200\n",
      "20/20 [==============================] - 0s 2ms/step - loss: 0.0230 - val_loss: 0.0287\n",
      "Epoch 121/200\n",
      "20/20 [==============================] - 0s 2ms/step - loss: 0.0230 - val_loss: 0.0287\n",
      "Epoch 122/200\n",
      "20/20 [==============================] - 0s 2ms/step - loss: 0.0230 - val_loss: 0.0287\n",
      "Epoch 123/200\n",
      "20/20 [==============================] - 0s 2ms/step - loss: 0.0230 - val_loss: 0.0287\n",
      "Epoch 124/200\n",
      "20/20 [==============================] - 0s 2ms/step - loss: 0.0230 - val_loss: 0.0287\n",
      "Epoch 125/200\n",
      "20/20 [==============================] - 0s 2ms/step - loss: 0.0230 - val_loss: 0.0287\n",
      "Epoch 126/200\n",
      "20/20 [==============================] - 0s 2ms/step - loss: 0.0230 - val_loss: 0.0287\n",
      "Epoch 127/200\n",
      "20/20 [==============================] - 0s 3ms/step - loss: 0.0230 - val_loss: 0.0287\n",
      "Epoch 128/200\n",
      "20/20 [==============================] - 0s 2ms/step - loss: 0.0230 - val_loss: 0.0287\n",
      "Epoch 129/200\n",
      "20/20 [==============================] - 0s 3ms/step - loss: 0.0230 - val_loss: 0.0287\n",
      "Epoch 130/200\n",
      "20/20 [==============================] - 0s 3ms/step - loss: 0.0230 - val_loss: 0.0287\n",
      "Epoch 131/200\n",
      "20/20 [==============================] - 0s 2ms/step - loss: 0.0230 - val_loss: 0.0287\n",
      "Epoch 132/200\n",
      "20/20 [==============================] - 0s 2ms/step - loss: 0.0230 - val_loss: 0.0287\n",
      "Epoch 133/200\n",
      "20/20 [==============================] - 0s 2ms/step - loss: 0.0230 - val_loss: 0.0287\n",
      "Epoch 134/200\n",
      "20/20 [==============================] - 0s 3ms/step - loss: 0.0230 - val_loss: 0.0287\n",
      "Epoch 135/200\n",
      "20/20 [==============================] - 0s 2ms/step - loss: 0.0230 - val_loss: 0.0287\n",
      "Epoch 136/200\n",
      "20/20 [==============================] - 0s 3ms/step - loss: 0.0230 - val_loss: 0.0287\n",
      "Epoch 137/200\n",
      "20/20 [==============================] - 0s 3ms/step - loss: 0.0230 - val_loss: 0.0287\n",
      "Epoch 138/200\n",
      "20/20 [==============================] - 0s 2ms/step - loss: 0.0230 - val_loss: 0.0287\n",
      "Epoch 139/200\n",
      "20/20 [==============================] - 0s 2ms/step - loss: 0.0230 - val_loss: 0.0287\n",
      "Epoch 140/200\n",
      "20/20 [==============================] - 0s 2ms/step - loss: 0.0230 - val_loss: 0.0287\n",
      "Epoch 141/200\n",
      "20/20 [==============================] - 0s 2ms/step - loss: 0.0230 - val_loss: 0.0287\n",
      "Epoch 142/200\n",
      "20/20 [==============================] - 0s 2ms/step - loss: 0.0230 - val_loss: 0.0287\n",
      "Epoch 143/200\n",
      "20/20 [==============================] - 0s 2ms/step - loss: 0.0230 - val_loss: 0.0287\n",
      "Epoch 144/200\n",
      "20/20 [==============================] - 0s 2ms/step - loss: 0.0230 - val_loss: 0.0287\n",
      "Epoch 145/200\n",
      "20/20 [==============================] - 0s 2ms/step - loss: 0.0230 - val_loss: 0.0287\n",
      "Epoch 146/200\n",
      "20/20 [==============================] - 0s 2ms/step - loss: 0.0230 - val_loss: 0.0287\n",
      "Epoch 147/200\n",
      "20/20 [==============================] - 0s 1ms/step - loss: 0.0230 - val_loss: 0.0287\n",
      "Epoch 148/200\n",
      "20/20 [==============================] - 0s 1ms/step - loss: 0.0230 - val_loss: 0.0287\n",
      "Epoch 149/200\n",
      "20/20 [==============================] - 0s 2ms/step - loss: 0.0230 - val_loss: 0.0287\n",
      "Epoch 150/200\n",
      "20/20 [==============================] - 0s 2ms/step - loss: 0.0230 - val_loss: 0.0287\n",
      "Epoch 151/200\n",
      "20/20 [==============================] - 0s 2ms/step - loss: 0.0230 - val_loss: 0.0287\n",
      "Epoch 152/200\n",
      "20/20 [==============================] - 0s 1ms/step - loss: 0.0230 - val_loss: 0.0287\n",
      "Epoch 153/200\n",
      "20/20 [==============================] - 0s 2ms/step - loss: 0.0230 - val_loss: 0.0287\n",
      "Epoch 154/200\n",
      "20/20 [==============================] - 0s 2ms/step - loss: 0.0230 - val_loss: 0.0287\n",
      "Epoch 155/200\n",
      "20/20 [==============================] - 0s 1ms/step - loss: 0.0230 - val_loss: 0.0287\n",
      "Epoch 156/200\n",
      "20/20 [==============================] - 0s 2ms/step - loss: 0.0230 - val_loss: 0.0287\n",
      "Epoch 157/200\n",
      "20/20 [==============================] - 0s 2ms/step - loss: 0.0230 - val_loss: 0.0287\n",
      "Epoch 158/200\n",
      "20/20 [==============================] - 0s 2ms/step - loss: 0.0230 - val_loss: 0.0287\n",
      "Epoch 159/200\n",
      "20/20 [==============================] - 0s 2ms/step - loss: 0.0230 - val_loss: 0.0287\n",
      "Epoch 160/200\n",
      "20/20 [==============================] - 0s 2ms/step - loss: 0.0230 - val_loss: 0.0287\n",
      "Epoch 161/200\n",
      "20/20 [==============================] - 0s 2ms/step - loss: 0.0230 - val_loss: 0.0287\n",
      "Epoch 162/200\n",
      "20/20 [==============================] - 0s 1ms/step - loss: 0.0230 - val_loss: 0.0287\n",
      "Epoch 163/200\n",
      "20/20 [==============================] - 0s 1ms/step - loss: 0.0230 - val_loss: 0.0287\n",
      "Epoch 164/200\n"
     ]
    },
    {
     "name": "stdout",
     "output_type": "stream",
     "text": [
      "20/20 [==============================] - 0s 2ms/step - loss: 0.0230 - val_loss: 0.0287\n",
      "Epoch 165/200\n",
      "20/20 [==============================] - 0s 2ms/step - loss: 0.0230 - val_loss: 0.0287\n",
      "Epoch 166/200\n",
      "20/20 [==============================] - 0s 2ms/step - loss: 0.0230 - val_loss: 0.0287\n",
      "Epoch 167/200\n",
      "20/20 [==============================] - 0s 2ms/step - loss: 0.0230 - val_loss: 0.0287\n",
      "Epoch 168/200\n",
      "20/20 [==============================] - 0s 1ms/step - loss: 0.0230 - val_loss: 0.0287\n",
      "Epoch 169/200\n",
      "20/20 [==============================] - 0s 1ms/step - loss: 0.0230 - val_loss: 0.0287\n",
      "Epoch 170/200\n",
      "20/20 [==============================] - 0s 2ms/step - loss: 0.0230 - val_loss: 0.0287\n",
      "Epoch 171/200\n",
      "20/20 [==============================] - 0s 2ms/step - loss: 0.0230 - val_loss: 0.0287\n",
      "Epoch 172/200\n",
      "20/20 [==============================] - 0s 1ms/step - loss: 0.0230 - val_loss: 0.0287\n",
      "Epoch 173/200\n",
      "20/20 [==============================] - 0s 1ms/step - loss: 0.0230 - val_loss: 0.0287\n",
      "Epoch 174/200\n",
      "20/20 [==============================] - 0s 1ms/step - loss: 0.0230 - val_loss: 0.0287\n",
      "Epoch 175/200\n",
      "20/20 [==============================] - 0s 1ms/step - loss: 0.0230 - val_loss: 0.0287\n",
      "Epoch 176/200\n",
      "20/20 [==============================] - 0s 1ms/step - loss: 0.0230 - val_loss: 0.0287\n"
     ]
    }
   ],
   "source": [
    "batch_size = 16\n",
    "\n",
    "history = model.fit(x_train=X_train, y_train=y_train, x_val=X_test, y_val=y_test,\n",
    "          epochs=100, batch_size=16, verbose=True)"
   ]
  },
  {
   "cell_type": "markdown",
   "metadata": {
    "ExecuteTime": {
     "end_time": "2020-07-13T18:00:21.039234Z",
     "start_time": "2020-07-13T18:00:20.869436Z"
    }
   },
   "source": [
    "### Evaluate model\n",
    "\n",
    "The model can be evaluated through posterior probability density function. The boxes plots in the cell below are the posterior PDF prediction and markers `x` are true value. "
   ]
  },
  {
   "cell_type": "code",
   "execution_count": 324,
   "metadata": {
    "ExecuteTime": {
     "end_time": "2020-07-13T18:29:29.107694Z",
     "start_time": "2020-07-13T18:29:28.677472Z"
    }
   },
   "outputs": [
    {
     "data": {
      "text/plain": [
       "<matplotlib.legend.Legend at 0x7fe47424add8>"
      ]
     },
     "execution_count": 324,
     "metadata": {},
     "output_type": "execute_result"
    },
    {
     "data": {
      "image/png": "[encoded data removed]",
      "text/plain": [
       "<Figure size 1700x800 with 1 Axes>"
      ]
     },
     "metadata": {
      "needs_background": "light"
     },
     "output_type": "display_data"
    }
   ],
   "source": [
    "size_sample = 10\n",
    "samples = X_test[:size_sample]\n",
    "\n",
    "boxes = list()\n",
    "for row in samples:\n",
    "    x, y = model.pdf(row)\n",
    "    boxes.append(x)\n",
    "    \n",
    "fig, ax = plt.subplots(figsize=(17, 8), dpi=100)\n",
    "\n",
    "ax.set_title('Compare posterior PDF and true value', fontdict=dict(fontsize=16))\n",
    "_ = ax.boxplot(boxes)\n",
    "ax.scatter(np.arange(size_sample)+1, y_test[:size_sample, 0], marker='x', color='r', label='True value')\n",
    "ax.set_xticks([])\n",
    "ax.set_ylabel('Amount reflectivity normalized (0, 1)')\n",
    "ax.legend()\n"
   ]
  },
  {
   "cell_type": "markdown",
   "metadata": {
    "ExecuteTime": {
     "end_time": "2020-07-13T18:30:50.750338Z",
     "start_time": "2020-07-13T18:30:50.744856Z"
    }
   },
   "source": [
    "Correlation between true value and predicted value by quantil"
   ]
  },
  {
   "cell_type": "code",
   "execution_count": 347,
   "metadata": {
    "ExecuteTime": {
     "end_time": "2020-07-13T18:38:38.846651Z",
     "start_time": "2020-07-13T18:38:38.411144Z"
    }
   },
   "outputs": [
    {
     "data": {
      "image/png": "[encoded data removed]",
      "text/plain": [
       "<Figure size 1440x432 with 3 Axes>"
      ]
     },
     "metadata": {
      "needs_background": "light"
     },
     "output_type": "display_data"
    }
   ],
   "source": [
    "y_pred = model.predict(X_test)\n",
    "\n",
    "fig, ax = plt.subplots(1, len(quantiles), figsize=(20, 6.))\n",
    "\n",
    "for i, quantil in enumerate(quantiles):\n",
    "    true, pred = y_test[:, 0], y_pred[:, i]\n",
    "    ax[i].set_title('%dth quantil'%(quantil*100), fontdict=dict(fontsize=14))\n",
    "    ax[i].scatter(true, pred)\n",
    "    ax[i].plot([true.min(), true.max()], [pred.min(), pred.max()], color='r')\n",
    "    ax[i].set_xlabel('True value')\n",
    "    ax[i].set_ylabel('Predicted value')"
   ]
  },
  {
   "cell_type": "markdown",
   "metadata": {
    "ExecuteTime": {
     "end_time": "2020-07-13T18:39:40.482856Z",
     "start_time": "2020-07-13T18:39:40.476354Z"
    }
   },
   "source": [
    "### References\n",
    "\n",
    "- Taylor, J.W., 2000. **A quantile regression neural network approach to estimating the conditional density of multiperiod returns**. *Journal of Forecasting* 19 (4), 299–311.\n",
    "\n",
    "\n",
    "- Cannon A. J. 2011. **Quantile regression neural networks: Implementation in R and application to precipitation downscaling**. *Computers & Geosciences*. 37 (9), 1277–1284.\n",
    "\n",
    "\n",
    "- Lemke, O., Kluft, L., Mrziglod, J., Pfreundschuh, S., Holl, G., Larsson,R., Yamada, T., Mieslinger, T., and Doerr, J. (2020).  **atmtools/typhon: Typhon release0.8.0**. Avaiable in: [https://github.com/atmtools/typhon/tree/v0.8.0](https://github.com/atmtools/typhon/tree/v0.8.0). Accessed 13 July 2020."
   ]
  }
 ],
 "metadata": {
  "kernelspec": {
   "display_name": "Python 3",
   "language": "python",
   "name": "python3"
  },
  "language_info": {
   "codemirror_mode": {
    "name": "ipython",
    "version": 3
   },
   "file_extension": ".py",
   "mimetype": "text/x-python",
   "name": "python",
   "nbconvert_exporter": "python",
   "pygments_lexer": "ipython3",
   "version": "3.7.0"
  }
 },
 "nbformat": 4,
 "nbformat_minor": 2
}
