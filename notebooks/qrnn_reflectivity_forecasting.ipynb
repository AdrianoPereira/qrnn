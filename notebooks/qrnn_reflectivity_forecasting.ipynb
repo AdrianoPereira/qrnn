{
 "cells": [
  {
   "cell_type": "markdown",
   "metadata": {},
   "source": [
    "### Description\n",
    "\n",
    "This notebook aims to apply the quantile neural network to predict mean reflectivity rada data. The data are avaiable in [https://www.arm.gov/research/campaigns/amf2014goamazon](https://www.arm.gov/research/campaigns/amf2014goamazon). \n",
    "\n",
    "> **Tip**:\n",
    ">The data can be easily downloaded using the module [goamazondownloader](https://github.com/AdrianoPereira/goamazondownloader)"
   ]
  },
  {
   "cell_type": "markdown",
   "metadata": {},
   "source": [
    "### Import libraries\n",
    "\n",
    "Importing modules e libraries to read of data, preprocessing, visualization and neural network models."
   ]
  },
  {
   "cell_type": "code",
   "execution_count": 1,
   "metadata": {
    "ExecuteTime": {
     "end_time": "2020-07-13T19:19:18.866071Z",
     "start_time": "2020-07-13T19:19:16.707864Z"
    }
   },
   "outputs": [
    {
     "name": "stderr",
     "output_type": "stream",
     "text": [
      "Using TensorFlow backend.\n",
      "/home/adriano/.local/lib/python3.7/site-packages/tensorflow/python/framework/dtypes.py:516: FutureWarning: Passing (type, 1) or '1type' as a synonym of type is deprecated; in a future version of numpy, it will be understood as (type, (1,)) / '(1,)type'.\n",
      "  _np_qint8 = np.dtype([(\"qint8\", np.int8, 1)])\n",
      "/home/adriano/.local/lib/python3.7/site-packages/tensorflow/python/framework/dtypes.py:517: FutureWarning: Passing (type, 1) or '1type' as a synonym of type is deprecated; in a future version of numpy, it will be understood as (type, (1,)) / '(1,)type'.\n",
      "  _np_quint8 = np.dtype([(\"quint8\", np.uint8, 1)])\n",
      "/home/adriano/.local/lib/python3.7/site-packages/tensorflow/python/framework/dtypes.py:518: FutureWarning: Passing (type, 1) or '1type' as a synonym of type is deprecated; in a future version of numpy, it will be understood as (type, (1,)) / '(1,)type'.\n",
      "  _np_qint16 = np.dtype([(\"qint16\", np.int16, 1)])\n",
      "/home/adriano/.local/lib/python3.7/site-packages/tensorflow/python/framework/dtypes.py:519: FutureWarning: Passing (type, 1) or '1type' as a synonym of type is deprecated; in a future version of numpy, it will be understood as (type, (1,)) / '(1,)type'.\n",
      "  _np_quint16 = np.dtype([(\"quint16\", np.uint16, 1)])\n",
      "/home/adriano/.local/lib/python3.7/site-packages/tensorflow/python/framework/dtypes.py:520: FutureWarning: Passing (type, 1) or '1type' as a synonym of type is deprecated; in a future version of numpy, it will be understood as (type, (1,)) / '(1,)type'.\n",
      "  _np_qint32 = np.dtype([(\"qint32\", np.int32, 1)])\n",
      "/home/adriano/.local/lib/python3.7/site-packages/tensorflow/python/framework/dtypes.py:525: FutureWarning: Passing (type, 1) or '1type' as a synonym of type is deprecated; in a future version of numpy, it will be understood as (type, (1,)) / '(1,)type'.\n",
      "  np_resource = np.dtype([(\"resource\", np.ubyte, 1)])\n",
      "/home/adriano/.local/lib/python3.7/site-packages/tensorboard/compat/tensorflow_stub/dtypes.py:541: FutureWarning: Passing (type, 1) or '1type' as a synonym of type is deprecated; in a future version of numpy, it will be understood as (type, (1,)) / '(1,)type'.\n",
      "  _np_qint8 = np.dtype([(\"qint8\", np.int8, 1)])\n",
      "/home/adriano/.local/lib/python3.7/site-packages/tensorboard/compat/tensorflow_stub/dtypes.py:542: FutureWarning: Passing (type, 1) or '1type' as a synonym of type is deprecated; in a future version of numpy, it will be understood as (type, (1,)) / '(1,)type'.\n",
      "  _np_quint8 = np.dtype([(\"quint8\", np.uint8, 1)])\n",
      "/home/adriano/.local/lib/python3.7/site-packages/tensorboard/compat/tensorflow_stub/dtypes.py:543: FutureWarning: Passing (type, 1) or '1type' as a synonym of type is deprecated; in a future version of numpy, it will be understood as (type, (1,)) / '(1,)type'.\n",
      "  _np_qint16 = np.dtype([(\"qint16\", np.int16, 1)])\n",
      "/home/adriano/.local/lib/python3.7/site-packages/tensorboard/compat/tensorflow_stub/dtypes.py:544: FutureWarning: Passing (type, 1) or '1type' as a synonym of type is deprecated; in a future version of numpy, it will be understood as (type, (1,)) / '(1,)type'.\n",
      "  _np_quint16 = np.dtype([(\"quint16\", np.uint16, 1)])\n",
      "/home/adriano/.local/lib/python3.7/site-packages/tensorboard/compat/tensorflow_stub/dtypes.py:545: FutureWarning: Passing (type, 1) or '1type' as a synonym of type is deprecated; in a future version of numpy, it will be understood as (type, (1,)) / '(1,)type'.\n",
      "  _np_qint32 = np.dtype([(\"qint32\", np.int32, 1)])\n",
      "/home/adriano/.local/lib/python3.7/site-packages/tensorboard/compat/tensorflow_stub/dtypes.py:550: FutureWarning: Passing (type, 1) or '1type' as a synonym of type is deprecated; in a future version of numpy, it will be understood as (type, (1,)) / '(1,)type'.\n",
      "  np_resource = np.dtype([(\"resource\", np.ubyte, 1)])\n"
     ]
    }
   ],
   "source": [
    "import os\n",
    "import pandas as pd\n",
    "import numpy as np\n",
    "import matplotlib.pyplot as plt\n",
    "\n",
    "from typhon.retrieval.qrnn import QRNN\n",
    "from sklearn.model_selection import train_test_split\n",
    "from sklearn.preprocessing import MinMaxScaler"
   ]
  },
  {
   "cell_type": "markdown",
   "metadata": {
    "ExecuteTime": {
     "end_time": "2020-07-13T15:24:49.138677Z",
     "start_time": "2020-07-13T15:24:49.133810Z"
    }
   },
   "source": [
    "### Load data\n",
    "\n",
    "The data are matrices (241x241) representing the radar's reflectivity echoes. Each attribute ($x_i$) will be the accumulated reflectivity at times t, t-1, ..., t-4 and output the reflectivity accumulated at time t + 1."
   ]
  },
  {
   "cell_type": "code",
   "execution_count": 2,
   "metadata": {
    "ExecuteTime": {
     "end_time": "2020-07-13T19:19:19.818782Z",
     "start_time": "2020-07-13T19:19:18.868275Z"
    }
   },
   "outputs": [],
   "source": [
    "paths = list()\n",
    "for root, dirs, files in os.walk('../data/matrizes'):\n",
    "    for file in files:\n",
    "        paths.append(os.path.join(root, file))\n",
    "paths = np.asarray(sorted(paths))\n",
    "\n",
    "X, Y = list(), list()\n",
    "size_input = 5 \n",
    "for i in range(size_input, paths.size):\n",
    "#     print(np.arange(i-size_input, i), i)\n",
    "    X.append(list())\n",
    "    for j in range(i-size_input, i):\n",
    "        mat = np.load(paths[j])\n",
    "        X[i-size_input].append(mat)\n",
    "    mat = np.load(paths[i])\n",
    "    Y.append(mat)\n",
    "X = np.asarray(X)\n",
    "Y = np.asarray(Y)"
   ]
  },
  {
   "cell_type": "markdown",
   "metadata": {},
   "source": [
    "### Preprocessing data\n",
    "\n",
    "Filtering the input data so that it has only complete time series and normalize data."
   ]
  },
  {
   "cell_type": "code",
   "execution_count": 3,
   "metadata": {
    "ExecuteTime": {
     "end_time": "2020-07-13T19:19:20.082520Z",
     "start_time": "2020-07-13T19:19:19.821029Z"
    }
   },
   "outputs": [],
   "source": [
    "X_data = list() \n",
    "Y_data = list()\n",
    "\n",
    "for i, xval in enumerate(X):\n",
    "    aux = list()\n",
    "    for frame in xval:\n",
    "        temp = np.nansum(frame)\n",
    "        if temp < 1:\n",
    "            break\n",
    "        aux.append(temp)\n",
    "    temp = np.nansum(Y[i])\n",
    "    if len(aux) == size_input and temp > 0:\n",
    "        X_data.append(aux)\n",
    "        Y_data.append(temp)\n",
    "        \n",
    "X_data = np.asarray(X_data)\n",
    "Y_data = np.expand_dims(np.asarray(Y_data), 1)\n",
    "\n",
    "norm = MinMaxScaler(feature_range=(0, 1))\n",
    "X_data = norm.fit_transform(X_data)\n",
    "Y_data = norm.fit_transform(Y_data)"
   ]
  },
  {
   "cell_type": "markdown",
   "metadata": {},
   "source": [
    "### Split test and train data\n",
    "\n",
    "Splitting data into training (85%) and testing set (15%)."
   ]
  },
  {
   "cell_type": "code",
   "execution_count": 4,
   "metadata": {
    "ExecuteTime": {
     "end_time": "2020-07-13T19:19:20.088525Z",
     "start_time": "2020-07-13T19:19:20.084183Z"
    }
   },
   "outputs": [
    {
     "name": "stdout",
     "output_type": "stream",
     "text": [
      "X_train:  (320, 5)\n",
      "y_train:  (320, 1)\n",
      "X_test:  (57, 5)\n",
      "y_test:  (57, 1)\n"
     ]
    }
   ],
   "source": [
    "X_train, X_test, y_train, y_test = train_test_split(X_data, Y_data, test_size=.15)\n",
    "\n",
    "print('X_train: ', X_train.shape)\n",
    "print('y_train: ', y_train.shape)\n",
    "\n",
    "print('X_test: ', X_test.shape)\n",
    "print('y_test: ', y_test.shape)"
   ]
  },
  {
   "cell_type": "markdown",
   "metadata": {},
   "source": [
    "### Build model\n",
    "\n",
    "Building quantile neural network model with the 10th, 5th and 90th quantiles. Internally, the QRNN uses a feed-forward neural network that is trained to minimize the quantile loss function [(TAYLOR, 2000)](#).\n",
    "\n",
    "$$\n",
    "L_\\tau(y_\\tau, y_{true}) =\n",
    "            \\begin{cases} (1 - \\tau)|y_\\tau - y_{true}| & \\text{ if } y_\\tau < y_\\text{true} \\\\\n",
    "            \\tau |y_\\tau - y_\\text{true}| & \\text{ otherwise, }\\end{cases}\n",
    "$$\n",
    "\n",
    "Where $y_\\text{true}$ is the expected value of the retrieval quantity\n",
    "and and $y_\\tau$ is the predicted quantile. The neural network\n",
    "has one output neuron for each quantile to estimate.\n"
   ]
  },
  {
   "cell_type": "code",
   "execution_count": 5,
   "metadata": {
    "ExecuteTime": {
     "end_time": "2020-07-13T19:19:20.264138Z",
     "start_time": "2020-07-13T19:19:20.090419Z"
    }
   },
   "outputs": [
    {
     "name": "stderr",
     "output_type": "stream",
     "text": [
      "WARNING: Logging before flag parsing goes to stderr.\n",
      "W0713 16:19:20.162311 140652751484736 deprecation_wrapper.py:119] From /home/adriano/.local/lib/python3.7/site-packages/keras/backend/tensorflow_backend.py:74: The name tf.get_default_graph is deprecated. Please use tf.compat.v1.get_default_graph instead.\n",
      "\n",
      "W0713 16:19:20.173985 140652751484736 deprecation_wrapper.py:119] From /home/adriano/.local/lib/python3.7/site-packages/keras/backend/tensorflow_backend.py:517: The name tf.placeholder is deprecated. Please use tf.compat.v1.placeholder instead.\n",
      "\n",
      "W0713 16:19:20.176052 140652751484736 deprecation_wrapper.py:119] From /home/adriano/.local/lib/python3.7/site-packages/keras/backend/tensorflow_backend.py:4138: The name tf.random_uniform is deprecated. Please use tf.random.uniform instead.\n",
      "\n"
     ]
    }
   ],
   "source": [
    "input_dim = X_train.shape[1]\n",
    "quantiles = [0.1, 0.5, 0.9]\n",
    "\n",
    "model = QRNN(input_dim=input_dim, quantiles=quantiles)"
   ]
  },
  {
   "cell_type": "markdown",
   "metadata": {},
   "source": [
    "### Training model\n",
    "\n",
    "Training model with batch size equals to 16 and using Learning Rate decay as callback. The LRDecay class implements the Keras callback interface and reduces the learning rate according to validation loss reduction."
   ]
  },
  {
   "cell_type": "code",
   "execution_count": 6,
   "metadata": {
    "ExecuteTime": {
     "end_time": "2020-07-13T19:19:26.753691Z",
     "start_time": "2020-07-13T19:19:20.265487Z"
    }
   },
   "outputs": [
    {
     "name": "stderr",
     "output_type": "stream",
     "text": [
      "W0713 16:19:20.276554 140652751484736 deprecation_wrapper.py:119] From /home/adriano/.local/lib/python3.7/site-packages/keras/optimizers.py:790: The name tf.train.Optimizer is deprecated. Please use tf.compat.v1.train.Optimizer instead.\n",
      "\n",
      "W0713 16:19:20.530004 140652751484736 deprecation_wrapper.py:119] From /home/adriano/.local/lib/python3.7/site-packages/keras/backend/tensorflow_backend.py:986: The name tf.assign_add is deprecated. Please use tf.compat.v1.assign_add instead.\n",
      "\n",
      "W0713 16:19:20.545434 140652751484736 deprecation_wrapper.py:119] From /home/adriano/.local/lib/python3.7/site-packages/keras/backend/tensorflow_backend.py:973: The name tf.assign is deprecated. Please use tf.compat.v1.assign instead.\n",
      "\n"
     ]
    },
    {
     "name": "stdout",
     "output_type": "stream",
     "text": [
      "Epoch 1/200\n",
      "20/20 [==============================] - 0s 14ms/step - loss: 0.3507 - val_loss: 0.1577\n",
      "Epoch 2/200\n",
      "20/20 [==============================] - 0s 1ms/step - loss: 0.1347 - val_loss: 0.1194\n",
      "Epoch 3/200\n",
      "20/20 [==============================] - 0s 1ms/step - loss: 0.1113 - val_loss: 0.1031\n",
      "Epoch 4/200\n",
      "20/20 [==============================] - 0s 1ms/step - loss: 0.0927 - val_loss: 0.0875\n",
      "Epoch 5/200\n",
      "20/20 [==============================] - 0s 1ms/step - loss: 0.0772 - val_loss: 0.0735\n",
      "Epoch 6/200\n",
      "20/20 [==============================] - 0s 2ms/step - loss: 0.0633 - val_loss: 0.0624\n",
      "Epoch 7/200\n",
      "20/20 [==============================] - 0s 2ms/step - loss: 0.0550 - val_loss: 0.0555\n",
      "Epoch 8/200\n",
      "20/20 [==============================] - 0s 2ms/step - loss: 0.0482 - val_loss: 0.0524\n",
      "Epoch 9/200\n",
      "20/20 [==============================] - 0s 2ms/step - loss: 0.0452 - val_loss: 0.0469\n",
      "Epoch 10/200\n",
      "20/20 [==============================] - 0s 3ms/step - loss: 0.0425 - val_loss: 0.0469\n",
      "Epoch 11/200\n",
      "20/20 [==============================] - 0s 3ms/step - loss: 0.0415 - val_loss: 0.0444\n",
      "Epoch 12/200\n",
      "20/20 [==============================] - 0s 2ms/step - loss: 0.0381 - val_loss: 0.0415\n",
      "Epoch 13/200\n",
      "20/20 [==============================] - 0s 2ms/step - loss: 0.0368 - val_loss: 0.0392\n",
      "Epoch 14/200\n",
      "20/20 [==============================] - 0s 2ms/step - loss: 0.0358 - val_loss: 0.0393\n",
      "Epoch 15/200\n",
      "20/20 [==============================] - 0s 2ms/step - loss: 0.0343 - val_loss: 0.0385\n",
      "Epoch 16/200\n",
      "20/20 [==============================] - 0s 2ms/step - loss: 0.0339 - val_loss: 0.0348\n",
      "Epoch 17/200\n",
      "20/20 [==============================] - 0s 2ms/step - loss: 0.0324 - val_loss: 0.0375\n",
      "Epoch 18/200\n",
      "20/20 [==============================] - 0s 2ms/step - loss: 0.0322 - val_loss: 0.0339\n",
      "Epoch 19/200\n",
      "20/20 [==============================] - 0s 2ms/step - loss: 0.0313 - val_loss: 0.0370\n",
      "Epoch 20/200\n",
      "20/20 [==============================] - 0s 2ms/step - loss: 0.0302 - val_loss: 0.0324\n",
      "Epoch 21/200\n",
      "20/20 [==============================] - 0s 2ms/step - loss: 0.0295 - val_loss: 0.0338\n",
      "Epoch 22/200\n",
      "20/20 [==============================] - 0s 2ms/step - loss: 0.0287 - val_loss: 0.0332\n",
      "Epoch 23/200\n",
      "20/20 [==============================] - 0s 2ms/step - loss: 0.0288 - val_loss: 0.0367\n",
      "Epoch 24/200\n",
      "20/20 [==============================] - 0s 2ms/step - loss: 0.0285 - val_loss: 0.0342\n",
      "Epoch 25/200\n",
      "20/20 [==============================] - 0s 2ms/step - loss: 0.0287 - val_loss: 0.0370\n",
      "Epoch 26/200\n",
      "20/20 [==============================] - 0s 2ms/step - loss: 0.0281 - val_loss: 0.0331\n",
      "Epoch 27/200\n",
      "20/20 [==============================] - 0s 2ms/step - loss: 0.0278 - val_loss: 0.0317\n",
      "Epoch 28/200\n",
      "20/20 [==============================] - 0s 2ms/step - loss: 0.0273 - val_loss: 0.0316\n",
      "Epoch 29/200\n",
      "20/20 [==============================] - 0s 2ms/step - loss: 0.0275 - val_loss: 0.0322\n",
      "Epoch 30/200\n",
      "20/20 [==============================] - 0s 2ms/step - loss: 0.0277 - val_loss: 0.0327\n",
      "Epoch 31/200\n",
      "20/20 [==============================] - 0s 2ms/step - loss: 0.0279 - val_loss: 0.0345\n",
      "Epoch 32/200\n",
      "20/20 [==============================] - 0s 2ms/step - loss: 0.0277 - val_loss: 0.0324\n",
      "Epoch 33/200\n",
      "20/20 [==============================] - 0s 2ms/step - loss: 0.0270 - val_loss: 0.0317\n",
      "Epoch 34/200\n",
      "20/20 [==============================] - 0s 2ms/step - loss: 0.0268 - val_loss: 0.0341\n",
      "Epoch 35/200\n",
      "20/20 [==============================] - 0s 2ms/step - loss: 0.0277 - val_loss: 0.0337\n",
      "Epoch 36/200\n",
      "20/20 [==============================] - 0s 2ms/step - loss: 0.0270 - val_loss: 0.0322\n",
      "Epoch 37/200\n",
      "20/20 [==============================] - 0s 3ms/step - loss: 0.0268 - val_loss: 0.0311\n",
      "Epoch 38/200\n",
      "20/20 [==============================] - 0s 2ms/step - loss: 0.0264 - val_loss: 0.0321\n",
      "Epoch 39/200\n",
      "20/20 [==============================] - 0s 2ms/step - loss: 0.0268 - val_loss: 0.0323\n",
      "Epoch 40/200\n",
      "20/20 [==============================] - 0s 3ms/step - loss: 0.0266 - val_loss: 0.0311\n",
      "Epoch 41/200\n",
      "20/20 [==============================] - 0s 3ms/step - loss: 0.0265 - val_loss: 0.0308\n",
      "Epoch 42/200\n",
      "20/20 [==============================] - 0s 2ms/step - loss: 0.0263 - val_loss: 0.0320\n",
      "Epoch 43/200\n",
      "20/20 [==============================] - 0s 3ms/step - loss: 0.0268 - val_loss: 0.0338\n",
      "Epoch 44/200\n",
      "20/20 [==============================] - 0s 2ms/step - loss: 0.0268 - val_loss: 0.0339\n",
      "Epoch 45/200\n",
      "20/20 [==============================] - 0s 2ms/step - loss: 0.0264 - val_loss: 0.0303\n",
      "Epoch 46/200\n",
      "20/20 [==============================] - 0s 2ms/step - loss: 0.0256 - val_loss: 0.0318\n",
      "Epoch 47/200\n",
      "20/20 [==============================] - 0s 2ms/step - loss: 0.0266 - val_loss: 0.0305\n",
      "Epoch 48/200\n",
      "20/20 [==============================] - 0s 1ms/step - loss: 0.0263 - val_loss: 0.0303\n",
      "Epoch 49/200\n",
      "20/20 [==============================] - 0s 2ms/step - loss: 0.0261 - val_loss: 0.0305\n",
      "Epoch 50/200\n",
      "20/20 [==============================] - 0s 2ms/step - loss: 0.0256 - val_loss: 0.0315\n",
      "Epoch 51/200\n",
      "20/20 [==============================] - 0s 2ms/step - loss: 0.0255 - val_loss: 0.0310\n",
      "Epoch 52/200\n",
      "20/20 [==============================] - 0s 2ms/step - loss: 0.0257 - val_loss: 0.0326\n",
      "Epoch 53/200\n",
      "20/20 [==============================] - 0s 2ms/step - loss: 0.0260 - val_loss: 0.0307\n",
      "Epoch 54/200\n",
      "20/20 [==============================] - 0s 2ms/step - loss: 0.0257 - val_loss: 0.0317\n",
      "Epoch 55/200\n",
      "20/20 [==============================] - 0s 2ms/step - loss: 0.0263 - val_loss: 0.0324\n",
      "Epoch 56/200\n",
      "20/20 [==============================] - 0s 2ms/step - loss: 0.0260 - val_loss: 0.0311\n",
      "Epoch 57/200\n",
      "20/20 [==============================] - 0s 2ms/step - loss: 0.0245 - val_loss: 0.0307\n",
      "Epoch 58/200\n",
      "20/20 [==============================] - 0s 2ms/step - loss: 0.0248 - val_loss: 0.0305\n",
      "Epoch 59/200\n",
      "20/20 [==============================] - 0s 2ms/step - loss: 0.0245 - val_loss: 0.0307\n",
      "Epoch 60/200\n",
      "20/20 [==============================] - 0s 1ms/step - loss: 0.0247 - val_loss: 0.0313\n",
      "Epoch 61/200\n",
      "20/20 [==============================] - 0s 1ms/step - loss: 0.0245 - val_loss: 0.0302\n",
      "Epoch 62/200\n",
      "20/20 [==============================] - 0s 2ms/step - loss: 0.0249 - val_loss: 0.0307\n",
      "Epoch 63/200\n",
      "20/20 [==============================] - 0s 1ms/step - loss: 0.0249 - val_loss: 0.0301\n",
      "Epoch 64/200\n",
      "20/20 [==============================] - 0s 1ms/step - loss: 0.0248 - val_loss: 0.0300\n",
      "Epoch 65/200\n",
      "20/20 [==============================] - 0s 1ms/step - loss: 0.0246 - val_loss: 0.0311\n",
      "Epoch 66/200\n",
      "20/20 [==============================] - 0s 1ms/step - loss: 0.0248 - val_loss: 0.0311\n",
      "Epoch 67/200\n",
      "20/20 [==============================] - 0s 1ms/step - loss: 0.0244 - val_loss: 0.0308\n",
      "Epoch 68/200\n",
      "20/20 [==============================] - 0s 1ms/step - loss: 0.0245 - val_loss: 0.0306\n",
      "Epoch 69/200\n",
      "20/20 [==============================] - 0s 1ms/step - loss: 0.0247 - val_loss: 0.0308\n",
      "Epoch 70/200\n",
      "20/20 [==============================] - 0s 1ms/step - loss: 0.0249 - val_loss: 0.0308\n",
      "Epoch 71/200\n",
      "20/20 [==============================] - 0s 1ms/step - loss: 0.0247 - val_loss: 0.0320\n",
      "Epoch 72/200\n",
      "20/20 [==============================] - 0s 1ms/step - loss: 0.0247 - val_loss: 0.0307\n",
      "Epoch 73/200\n",
      "20/20 [==============================] - 0s 1ms/step - loss: 0.0242 - val_loss: 0.0308\n",
      "Epoch 74/200\n",
      "20/20 [==============================] - 0s 1ms/step - loss: 0.0243 - val_loss: 0.0306\n",
      "Epoch 75/200\n",
      "20/20 [==============================] - 0s 1ms/step - loss: 0.0244 - val_loss: 0.0307\n",
      "Epoch 76/200\n",
      "20/20 [==============================] - 0s 980us/step - loss: 0.0242 - val_loss: 0.0305\n",
      "Epoch 77/200\n",
      "20/20 [==============================] - 0s 984us/step - loss: 0.0238 - val_loss: 0.0300\n",
      "Epoch 78/200\n",
      "20/20 [==============================] - 0s 1ms/step - loss: 0.0240 - val_loss: 0.0308\n",
      "Epoch 79/200\n",
      "20/20 [==============================] - 0s 1ms/step - loss: 0.0239 - val_loss: 0.0310\n",
      "Epoch 80/200\n",
      "20/20 [==============================] - 0s 1ms/step - loss: 0.0240 - val_loss: 0.0303\n",
      "Epoch 81/200\n",
      "20/20 [==============================] - 0s 1ms/step - loss: 0.0240 - val_loss: 0.0305\n",
      "Epoch 82/200\n",
      "20/20 [==============================] - 0s 961us/step - loss: 0.0240 - val_loss: 0.0303\n"
     ]
    },
    {
     "name": "stdout",
     "output_type": "stream",
     "text": [
      "Epoch 83/200\n",
      "20/20 [==============================] - 0s 915us/step - loss: 0.0240 - val_loss: 0.0302\n",
      "Epoch 84/200\n",
      "20/20 [==============================] - 0s 934us/step - loss: 0.0239 - val_loss: 0.0306\n",
      "Epoch 85/200\n",
      "20/20 [==============================] - 0s 957us/step - loss: 0.0239 - val_loss: 0.0300\n",
      "Epoch 86/200\n",
      "20/20 [==============================] - 0s 927us/step - loss: 0.0240 - val_loss: 0.0303\n",
      "Epoch 87/200\n",
      "20/20 [==============================] - 0s 1ms/step - loss: 0.0237 - val_loss: 0.0301\n",
      "Epoch 88/200\n",
      "20/20 [==============================] - 0s 2ms/step - loss: 0.0237 - val_loss: 0.0301\n",
      "Epoch 89/200\n",
      "20/20 [==============================] - 0s 2ms/step - loss: 0.0237 - val_loss: 0.0302\n",
      "Epoch 90/200\n",
      "20/20 [==============================] - 0s 1ms/step - loss: 0.0236 - val_loss: 0.0303\n",
      "Epoch 91/200\n",
      "20/20 [==============================] - 0s 1ms/step - loss: 0.0237 - val_loss: 0.0301\n",
      "Epoch 92/200\n",
      "20/20 [==============================] - 0s 2ms/step - loss: 0.0237 - val_loss: 0.0301\n",
      "Epoch 93/200\n",
      "20/20 [==============================] - 0s 1ms/step - loss: 0.0237 - val_loss: 0.0302\n",
      "Epoch 94/200\n",
      "20/20 [==============================] - 0s 1ms/step - loss: 0.0237 - val_loss: 0.0302\n",
      "Epoch 95/200\n",
      "20/20 [==============================] - 0s 1ms/step - loss: 0.0236 - val_loss: 0.0302\n",
      "Epoch 96/200\n",
      "20/20 [==============================] - 0s 1ms/step - loss: 0.0237 - val_loss: 0.0302\n",
      "Epoch 97/200\n",
      "20/20 [==============================] - 0s 1ms/step - loss: 0.0237 - val_loss: 0.0303\n",
      "Epoch 98/200\n",
      "20/20 [==============================] - 0s 1ms/step - loss: 0.0236 - val_loss: 0.0301\n",
      "Epoch 99/200\n",
      "20/20 [==============================] - 0s 970us/step - loss: 0.0235 - val_loss: 0.0301\n",
      "Epoch 100/200\n",
      "20/20 [==============================] - 0s 1ms/step - loss: 0.0235 - val_loss: 0.0301\n",
      "Epoch 101/200\n",
      "20/20 [==============================] - 0s 1ms/step - loss: 0.0235 - val_loss: 0.0301\n",
      "Epoch 102/200\n",
      "20/20 [==============================] - 0s 1ms/step - loss: 0.0235 - val_loss: 0.0301\n",
      "Epoch 103/200\n",
      "20/20 [==============================] - 0s 1ms/step - loss: 0.0235 - val_loss: 0.0302\n",
      "Epoch 104/200\n",
      "20/20 [==============================] - 0s 1ms/step - loss: 0.0235 - val_loss: 0.0301\n",
      "Epoch 105/200\n",
      "20/20 [==============================] - 0s 989us/step - loss: 0.0235 - val_loss: 0.0302\n",
      "Epoch 106/200\n",
      "20/20 [==============================] - 0s 1ms/step - loss: 0.0235 - val_loss: 0.0301\n",
      "Epoch 107/200\n",
      "20/20 [==============================] - 0s 1ms/step - loss: 0.0235 - val_loss: 0.0302\n",
      "Epoch 108/200\n",
      "20/20 [==============================] - 0s 1ms/step - loss: 0.0235 - val_loss: 0.0301\n",
      "Epoch 109/200\n",
      "20/20 [==============================] - 0s 1ms/step - loss: 0.0235 - val_loss: 0.0301\n",
      "Epoch 110/200\n",
      "20/20 [==============================] - 0s 1ms/step - loss: 0.0235 - val_loss: 0.0301\n",
      "Epoch 111/200\n",
      "20/20 [==============================] - 0s 1ms/step - loss: 0.0235 - val_loss: 0.0301\n",
      "Epoch 112/200\n",
      "20/20 [==============================] - 0s 1ms/step - loss: 0.0235 - val_loss: 0.0301\n",
      "Epoch 113/200\n",
      "20/20 [==============================] - 0s 1ms/step - loss: 0.0235 - val_loss: 0.0301\n",
      "Epoch 114/200\n",
      "20/20 [==============================] - 0s 1ms/step - loss: 0.0235 - val_loss: 0.0301\n",
      "Epoch 115/200\n",
      "20/20 [==============================] - 0s 1ms/step - loss: 0.0235 - val_loss: 0.0301\n",
      "Epoch 116/200\n",
      "20/20 [==============================] - 0s 1ms/step - loss: 0.0235 - val_loss: 0.0301\n",
      "Epoch 117/200\n",
      "20/20 [==============================] - 0s 1ms/step - loss: 0.0235 - val_loss: 0.0301\n",
      "Epoch 118/200\n",
      "20/20 [==============================] - 0s 1ms/step - loss: 0.0235 - val_loss: 0.0301\n",
      "Epoch 119/200\n",
      "20/20 [==============================] - 0s 1ms/step - loss: 0.0235 - val_loss: 0.0301\n",
      "Epoch 120/200\n",
      "20/20 [==============================] - 0s 1ms/step - loss: 0.0234 - val_loss: 0.0301\n",
      "Epoch 121/200\n",
      "20/20 [==============================] - 0s 995us/step - loss: 0.0234 - val_loss: 0.0301\n",
      "Epoch 122/200\n",
      "20/20 [==============================] - 0s 1ms/step - loss: 0.0234 - val_loss: 0.0301\n",
      "Epoch 123/200\n",
      "20/20 [==============================] - 0s 1ms/step - loss: 0.0234 - val_loss: 0.0301\n",
      "Epoch 124/200\n",
      "20/20 [==============================] - 0s 1ms/step - loss: 0.0234 - val_loss: 0.0301\n",
      "Epoch 125/200\n",
      "20/20 [==============================] - 0s 1ms/step - loss: 0.0234 - val_loss: 0.0301\n",
      "Epoch 126/200\n",
      "20/20 [==============================] - 0s 1ms/step - loss: 0.0235 - val_loss: 0.0301\n",
      "Epoch 127/200\n",
      "20/20 [==============================] - 0s 1ms/step - loss: 0.0235 - val_loss: 0.0301\n",
      "Epoch 128/200\n",
      "20/20 [==============================] - 0s 1ms/step - loss: 0.0234 - val_loss: 0.0301\n",
      "Epoch 129/200\n",
      "20/20 [==============================] - 0s 1ms/step - loss: 0.0234 - val_loss: 0.0301\n",
      "Epoch 130/200\n",
      "20/20 [==============================] - 0s 966us/step - loss: 0.0234 - val_loss: 0.0301\n",
      "Epoch 131/200\n",
      "20/20 [==============================] - 0s 1ms/step - loss: 0.0234 - val_loss: 0.0301\n",
      "Epoch 132/200\n",
      "20/20 [==============================] - 0s 1ms/step - loss: 0.0234 - val_loss: 0.0301\n",
      "Epoch 133/200\n",
      "20/20 [==============================] - 0s 913us/step - loss: 0.0234 - val_loss: 0.0301\n",
      "Epoch 134/200\n",
      "20/20 [==============================] - 0s 968us/step - loss: 0.0234 - val_loss: 0.0301\n",
      "Epoch 135/200\n",
      "20/20 [==============================] - 0s 1ms/step - loss: 0.0234 - val_loss: 0.0301\n",
      "Epoch 136/200\n",
      "20/20 [==============================] - 0s 988us/step - loss: 0.0234 - val_loss: 0.0301\n",
      "Epoch 137/200\n",
      "20/20 [==============================] - 0s 1ms/step - loss: 0.0234 - val_loss: 0.0301\n",
      "Epoch 138/200\n",
      "20/20 [==============================] - 0s 2ms/step - loss: 0.0234 - val_loss: 0.0301\n",
      "Epoch 139/200\n",
      "20/20 [==============================] - 0s 1ms/step - loss: 0.0234 - val_loss: 0.0301\n",
      "Epoch 140/200\n",
      "20/20 [==============================] - 0s 993us/step - loss: 0.0234 - val_loss: 0.0301\n",
      "Epoch 141/200\n",
      "20/20 [==============================] - 0s 1ms/step - loss: 0.0234 - val_loss: 0.0301\n",
      "Epoch 142/200\n",
      "20/20 [==============================] - 0s 937us/step - loss: 0.0234 - val_loss: 0.0301\n",
      "Epoch 143/200\n",
      "20/20 [==============================] - 0s 1ms/step - loss: 0.0234 - val_loss: 0.0301\n",
      "Epoch 144/200\n",
      "20/20 [==============================] - 0s 1ms/step - loss: 0.0234 - val_loss: 0.0301\n",
      "Epoch 145/200\n",
      "20/20 [==============================] - 0s 1ms/step - loss: 0.0234 - val_loss: 0.0301\n",
      "Epoch 146/200\n",
      "20/20 [==============================] - 0s 1ms/step - loss: 0.0234 - val_loss: 0.0301\n",
      "Epoch 147/200\n",
      "20/20 [==============================] - 0s 941us/step - loss: 0.0234 - val_loss: 0.0301\n",
      "Epoch 148/200\n",
      "20/20 [==============================] - 0s 959us/step - loss: 0.0234 - val_loss: 0.0301\n",
      "Epoch 149/200\n",
      "20/20 [==============================] - 0s 1ms/step - loss: 0.0234 - val_loss: 0.0301\n",
      "Epoch 150/200\n",
      "20/20 [==============================] - 0s 1ms/step - loss: 0.0234 - val_loss: 0.0301\n",
      "Epoch 151/200\n",
      "20/20 [==============================] - 0s 1ms/step - loss: 0.0234 - val_loss: 0.0301\n",
      "Epoch 152/200\n",
      "20/20 [==============================] - 0s 1ms/step - loss: 0.0234 - val_loss: 0.0301\n",
      "Epoch 153/200\n",
      "20/20 [==============================] - 0s 1ms/step - loss: 0.0234 - val_loss: 0.0301\n",
      "Epoch 154/200\n",
      "20/20 [==============================] - 0s 1ms/step - loss: 0.0234 - val_loss: 0.0301\n",
      "Epoch 155/200\n",
      "20/20 [==============================] - 0s 1ms/step - loss: 0.0234 - val_loss: 0.0301\n",
      "Epoch 156/200\n",
      "20/20 [==============================] - 0s 1ms/step - loss: 0.0234 - val_loss: 0.0301\n",
      "Epoch 157/200\n",
      "20/20 [==============================] - 0s 1ms/step - loss: 0.0234 - val_loss: 0.0301\n",
      "Epoch 158/200\n",
      "20/20 [==============================] - 0s 1ms/step - loss: 0.0234 - val_loss: 0.0301\n",
      "Epoch 159/200\n",
      "20/20 [==============================] - 0s 1ms/step - loss: 0.0234 - val_loss: 0.0301\n",
      "Epoch 160/200\n",
      "20/20 [==============================] - 0s 1ms/step - loss: 0.0234 - val_loss: 0.0301\n",
      "Epoch 161/200\n",
      "20/20 [==============================] - 0s 1ms/step - loss: 0.0234 - val_loss: 0.0301\n",
      "Epoch 162/200\n",
      "20/20 [==============================] - 0s 969us/step - loss: 0.0234 - val_loss: 0.0301\n",
      "Epoch 163/200\n",
      "20/20 [==============================] - 0s 976us/step - loss: 0.0234 - val_loss: 0.0301\n"
     ]
    },
    {
     "name": "stdout",
     "output_type": "stream",
     "text": [
      "Epoch 164/200\n",
      "20/20 [==============================] - 0s 998us/step - loss: 0.0234 - val_loss: 0.0301\n",
      "Epoch 165/200\n",
      "20/20 [==============================] - 0s 929us/step - loss: 0.0234 - val_loss: 0.0301\n",
      "Epoch 166/200\n",
      "20/20 [==============================] - 0s 955us/step - loss: 0.0234 - val_loss: 0.0301\n",
      "Epoch 167/200\n",
      "20/20 [==============================] - 0s 958us/step - loss: 0.0234 - val_loss: 0.0301\n",
      "Epoch 168/200\n",
      "20/20 [==============================] - 0s 1ms/step - loss: 0.0234 - val_loss: 0.0301\n",
      "Epoch 169/200\n",
      "20/20 [==============================] - 0s 999us/step - loss: 0.0234 - val_loss: 0.0301\n",
      "Epoch 170/200\n",
      "20/20 [==============================] - 0s 1ms/step - loss: 0.0234 - val_loss: 0.0301\n",
      "Epoch 171/200\n",
      "20/20 [==============================] - 0s 1ms/step - loss: 0.0234 - val_loss: 0.0301\n",
      "Epoch 172/200\n",
      "20/20 [==============================] - 0s 1ms/step - loss: 0.0234 - val_loss: 0.0301\n",
      "Epoch 173/200\n",
      "20/20 [==============================] - 0s 1ms/step - loss: 0.0234 - val_loss: 0.0301\n",
      "Epoch 174/200\n",
      "20/20 [==============================] - 0s 1ms/step - loss: 0.0234 - val_loss: 0.0301\n",
      "Epoch 175/200\n",
      "20/20 [==============================] - 0s 1ms/step - loss: 0.0234 - val_loss: 0.0301\n",
      "Epoch 176/200\n",
      "20/20 [==============================] - 0s 985us/step - loss: 0.0234 - val_loss: 0.0301\n",
      "Epoch 177/200\n",
      "20/20 [==============================] - 0s 951us/step - loss: 0.0234 - val_loss: 0.0301\n",
      "Epoch 178/200\n",
      "20/20 [==============================] - 0s 1ms/step - loss: 0.0234 - val_loss: 0.0301\n",
      "Epoch 179/200\n",
      "20/20 [==============================] - 0s 1ms/step - loss: 0.0234 - val_loss: 0.0301\n",
      "Epoch 180/200\n",
      "20/20 [==============================] - 0s 2ms/step - loss: 0.0234 - val_loss: 0.0301\n",
      "Epoch 181/200\n",
      "20/20 [==============================] - 0s 2ms/step - loss: 0.0234 - val_loss: 0.0301\n",
      "Epoch 182/200\n",
      "20/20 [==============================] - 0s 2ms/step - loss: 0.0234 - val_loss: 0.0301\n",
      "Epoch 183/200\n",
      "20/20 [==============================] - 0s 1ms/step - loss: 0.0234 - val_loss: 0.0301\n",
      "Epoch 184/200\n",
      "20/20 [==============================] - 0s 1ms/step - loss: 0.0234 - val_loss: 0.0301\n",
      "Epoch 185/200\n",
      "20/20 [==============================] - 0s 1ms/step - loss: 0.0234 - val_loss: 0.0301\n",
      "Epoch 186/200\n",
      "20/20 [==============================] - 0s 1ms/step - loss: 0.0234 - val_loss: 0.0301\n",
      "Epoch 187/200\n",
      "20/20 [==============================] - 0s 1ms/step - loss: 0.0234 - val_loss: 0.0301\n",
      "Epoch 188/200\n",
      "20/20 [==============================] - 0s 1ms/step - loss: 0.0234 - val_loss: 0.0301\n",
      "Epoch 189/200\n",
      "20/20 [==============================] - 0s 1ms/step - loss: 0.0234 - val_loss: 0.0301\n",
      "Epoch 190/200\n",
      "20/20 [==============================] - 0s 1ms/step - loss: 0.0234 - val_loss: 0.0301\n",
      "Epoch 191/200\n",
      "20/20 [==============================] - 0s 1ms/step - loss: 0.0234 - val_loss: 0.0301\n",
      "Epoch 192/200\n",
      "20/20 [==============================] - 0s 1ms/step - loss: 0.0234 - val_loss: 0.0301\n",
      "Epoch 193/200\n",
      "20/20 [==============================] - 0s 962us/step - loss: 0.0234 - val_loss: 0.0301\n",
      "Epoch 194/200\n",
      "20/20 [==============================] - 0s 1ms/step - loss: 0.0234 - val_loss: 0.0301\n",
      "Epoch 195/200\n",
      "20/20 [==============================] - 0s 1ms/step - loss: 0.0234 - val_loss: 0.0301\n",
      "Epoch 196/200\n",
      "20/20 [==============================] - 0s 1ms/step - loss: 0.0234 - val_loss: 0.0301\n",
      "Epoch 197/200\n",
      "20/20 [==============================] - 0s 1ms/step - loss: 0.0234 - val_loss: 0.0301\n",
      "Epoch 198/200\n",
      "20/20 [==============================] - 0s 1ms/step - loss: 0.0234 - val_loss: 0.0301\n",
      "Epoch 199/200\n",
      "20/20 [==============================] - 0s 1ms/step - loss: 0.0234 - val_loss: 0.0301\n",
      "Epoch 200/200\n",
      "20/20 [==============================] - 0s 1ms/step - loss: 0.0234 - val_loss: 0.0301\n"
     ]
    }
   ],
   "source": [
    "batch_size = 16\n",
    "\n",
    "history = model.fit(x_train=X_train, y_train=y_train, x_val=X_test, y_val=y_test,\n",
    "          epochs=100, batch_size=16, verbose=True)"
   ]
  },
  {
   "cell_type": "markdown",
   "metadata": {
    "ExecuteTime": {
     "end_time": "2020-07-13T18:00:21.039234Z",
     "start_time": "2020-07-13T18:00:20.869436Z"
    }
   },
   "source": [
    "### Evaluate model\n",
    "\n",
    "The model can be evaluated through posterior probability density function. The boxes plots in the cell below are the posterior PDF prediction and markers `x` are true value. "
   ]
  },
  {
   "cell_type": "code",
   "execution_count": 7,
   "metadata": {
    "ExecuteTime": {
     "end_time": "2020-07-13T19:19:27.245019Z",
     "start_time": "2020-07-13T19:19:26.755421Z"
    }
   },
   "outputs": [
    {
     "data": {
      "text/plain": [
       "<matplotlib.legend.Legend at 0x7febfab5c438>"
      ]
     },
     "execution_count": 7,
     "metadata": {},
     "output_type": "execute_result"
    },
    {
     "data": {
      "image/png": "[encoded data removed]",
      "text/plain": [
       "<Figure size 1700x800 with 1 Axes>"
      ]
     },
     "metadata": {
      "needs_background": "light"
     },
     "output_type": "display_data"
    }
   ],
   "source": [
    "size_sample = 10\n",
    "samples = X_test[:size_sample]\n",
    "\n",
    "boxes = list()\n",
    "for row in samples:\n",
    "    x, y = model.pdf(row)\n",
    "    boxes.append(x)\n",
    "    \n",
    "fig, ax = plt.subplots(figsize=(17, 8), dpi=100)\n",
    "\n",
    "ax.set_title('Compare posterior PDF and true value', fontdict=dict(fontsize=16))\n",
    "_ = ax.boxplot(boxes)\n",
    "ax.scatter(np.arange(size_sample)+1, y_test[:size_sample, 0], marker='x', color='r', label='True value')\n",
    "ax.set_xticks([])\n",
    "ax.set_ylabel('Amount reflectivity normalized (0, 1)')\n",
    "ax.legend()\n"
   ]
  },
  {
   "cell_type": "markdown",
   "metadata": {
    "ExecuteTime": {
     "end_time": "2020-07-13T18:30:50.750338Z",
     "start_time": "2020-07-13T18:30:50.744856Z"
    }
   },
   "source": [
    "Correlation between true value and predicted value by quantil"
   ]
  },
  {
   "cell_type": "code",
   "execution_count": 8,
   "metadata": {
    "ExecuteTime": {
     "end_time": "2020-07-13T19:19:27.579368Z",
     "start_time": "2020-07-13T19:19:27.246983Z"
    }
   },
   "outputs": [
    {
     "data": {
      "image/png": "[encoded data removed]",
      "text/plain": [
       "<Figure size 1440x432 with 3 Axes>"
      ]
     },
     "metadata": {
      "needs_background": "light"
     },
     "output_type": "display_data"
    }
   ],
   "source": [
    "y_pred = model.predict(X_test)\n",
    "\n",
    "fig, ax = plt.subplots(1, len(quantiles), figsize=(20, 6.))\n",
    "\n",
    "for i, quantil in enumerate(quantiles):\n",
    "    true, pred = y_test[:, 0], y_pred[:, i]\n",
    "    ax[i].set_title('%dth quantil'%(quantil*100), fontdict=dict(fontsize=14))\n",
    "    ax[i].scatter(true, pred)\n",
    "    ax[i].plot([true.min(), true.max()], [pred.min(), pred.max()], color='r')\n",
    "    ax[i].set_xlabel('True value')\n",
    "    ax[i].set_ylabel('Predicted value')"
   ]
  },
  {
   "cell_type": "markdown",
   "metadata": {
    "ExecuteTime": {
     "end_time": "2020-07-13T18:39:40.482856Z",
     "start_time": "2020-07-13T18:39:40.476354Z"
    }
   },
   "source": [
    "### References\n",
    "\n",
    "- Taylor, J.W., 2000. **A quantile regression neural network approach to estimating the conditional density of multiperiod returns**. *Journal of Forecasting* 19 (4), 299–311.\n",
    "\n",
    "\n",
    "- Cannon A. J. 2011. **Quantile regression neural networks: Implementation in R and application to precipitation downscaling**. *Computers & Geosciences*. 37 (9), 1277–1284.\n",
    "\n",
    "\n",
    "- Lemke, O., Kluft, L., Mrziglod, J., Pfreundschuh, S., Holl, G., Larsson,R., Yamada, T., Mieslinger, T., and Doerr, J. (2020).  **atmtools/typhon: Typhon release0.8.0**. Avaiable in: [https://github.com/atmtools/typhon/tree/v0.8.0](https://github.com/atmtools/typhon/tree/v0.8.0). Accessed 13 July 2020."
   ]
  }
 ],
 "metadata": {
  "kernelspec": {
   "display_name": "Python 3",
   "language": "python",
   "name": "python3"
  },
  "language_info": {
   "codemirror_mode": {
    "name": "ipython",
    "version": 3
   },
   "file_extension": ".py",
   "mimetype": "text/x-python",
   "name": "python",
   "nbconvert_exporter": "python",
   "pygments_lexer": "ipython3",
   "version": "3.7.0"
  }
 },
 "nbformat": 4,
 "nbformat_minor": 2
}
